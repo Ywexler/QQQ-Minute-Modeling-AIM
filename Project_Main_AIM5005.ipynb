{
 "cells": [
  {
   "cell_type": "markdown",
   "metadata": {},
   "source": [
    "# Setup  \n",
    "- Import Data  \n",
    "- create features"
   ]
  },
  {
   "cell_type": "code",
   "execution_count": 308,
   "metadata": {},
   "outputs": [],
   "source": [
    "import os \n",
    "import yfinance as yf\n",
    "import pandas as pd\n",
    "import datetime\n",
    "from datetime import datetime, timedelta\n",
    "import numpy as np"
   ]
  },
  {
   "cell_type": "code",
   "execution_count": 309,
   "metadata": {},
   "outputs": [],
   "source": [
    "os.chdir('C:/Users/ywexl/OneDrive/Desktop/AIM_5005')"
   ]
  },
  {
   "cell_type": "code",
   "execution_count": 310,
   "metadata": {},
   "outputs": [],
   "source": [
    "df=pd.read_csv('Month_1m_QQQ.csv')"
   ]
  },
  {
   "cell_type": "code",
   "execution_count": 311,
   "metadata": {},
   "outputs": [],
   "source": [
    "df['Datetime'] = pd.to_datetime(df['Datetime'])\n",
    "df['Close'] = df['Close'].astype(float)\n",
    "df['Open'] = df['Open'].astype(float)\n",
    "df['High'] = df['High'].astype(float)\n",
    "df['Low'] = df['Low'].astype(float)\n",
    "df['Volume'] = df['Volume'].astype(int)"
   ]
  },
  {
   "cell_type": "code",
   "execution_count": 312,
   "metadata": {},
   "outputs": [],
   "source": [
    "df['Close'] = df['Close'].astype(str).str.replace(r'[^0-9.]', '', regex=True)\n",
    "df['Close'] = pd.to_numeric(df['Close'], errors='coerce')\n",
    "df['SMA'] = df['Close'].rolling(window=5).mean()\n",
    "df['Close_next'] = df['Close'].shift(-1)\n",
    "df = df.dropna(subset=['Close', 'Close_next'])\n",
    "df['Target'] = (df['Close_next'] > df['Close']).astype(int)\n",
    "df.dropna(subset=['Close_next'], inplace=True)\n"
   ]
  },
  {
   "cell_type": "code",
   "execution_count": 313,
   "metadata": {},
   "outputs": [],
   "source": [
    "# Calculate SMA and STD Features\n",
    "short_window = 5\n",
    "long_window = 15\n",
    "\n",
    "df['SMA_short'] = df['Close'].rolling(window=short_window).mean()\n",
    "df['SMA_long'] = df['Close'].rolling(window=long_window).mean()\n",
    "df['RollingStd'] = df['Close'].rolling(window=short_window).std()\n",
    "df.dropna(inplace=True)\n"
   ]
  },
  {
   "cell_type": "code",
   "execution_count": 314,
   "metadata": {},
   "outputs": [],
   "source": [
    "# Calculate RSI Feature\n",
    "def compute_rsi(series, period=14):\n",
    "    delta = series.diff()  \n",
    "    gain = delta.clip(lower=0)      \n",
    "    loss = -1 * delta.clip(upper=0) \n",
    "\n",
    "    avg_gain = gain.rolling(window=period).mean()\n",
    "    avg_loss = loss.rolling(window=period).mean()\n",
    "\n",
    "    rs = avg_gain / (avg_loss + 1e-10)\n",
    "\n",
    "    rsi = 100 - (100 / (1.0 + rs))\n",
    "    return rsi\n",
    "\n",
    "df['RSI'] = compute_rsi(df['Close'], period=14)\n",
    "\n",
    "df=df.dropna(subset=['RSI'])"
   ]
  },
  {
   "cell_type": "code",
   "execution_count": 315,
   "metadata": {},
   "outputs": [],
   "source": [
    "# Calculate EMA Feature\n",
    "df['EMA_Short'] = df['Close'].ewm(span=5, adjust=False).mean()\n",
    "df['EMA_Long'] = df['Close'].ewm(span=15, adjust=False).mean()\n",
    "df.dropna(inplace=True)\n",
    "df=df.dropna(subset=['EMA_Short', 'EMA_Long'])"
   ]
  },
  {
   "cell_type": "code",
   "execution_count": 316,
   "metadata": {},
   "outputs": [],
   "source": [
    "# Calculate Volume Feature\n",
    "df['Volume_SMA_5'] = df['Volume'].rolling(window=5).mean()\n",
    "df['Volume_SMA_15'] = df['Volume'].rolling(window=15).mean()\n",
    "df['Volume_Ratio_5'] = df['Volume'] / df['Volume_SMA_5']\n",
    "df['Volume_Ratio_15'] = df['Volume'] / df['Volume_SMA_15']\n",
    "df.dropna(inplace=True)"
   ]
  },
  {
   "cell_type": "markdown",
   "metadata": {},
   "source": [
    "# Model 1 - Random Forest"
   ]
  },
  {
   "cell_type": "code",
   "execution_count": 317,
   "metadata": {},
   "outputs": [],
   "source": [
    "from sklearn.ensemble import RandomForestClassifier\n",
    "from sklearn.model_selection import train_test_split\n",
    "from sklearn.metrics import classification_report, accuracy_score\n"
   ]
  },
  {
   "cell_type": "code",
   "execution_count": 318,
   "metadata": {},
   "outputs": [],
   "source": [
    "feature_cols = ['SMA_short', 'SMA_long', 'RollingStd', 'RSI']  \n",
    "X = df[feature_cols]\n",
    "y = df['Target']\n",
    "\n",
    "# 80/20 split\n",
    "X_train, X_test, y_train, y_test = train_test_split(\n",
    "    X, y,\n",
    "    test_size=0.2,\n",
    "    shuffle=False  \n",
    ")\n"
   ]
  },
  {
   "cell_type": "code",
   "execution_count": 319,
   "metadata": {},
   "outputs": [
    {
     "name": "stdout",
     "output_type": "stream",
     "text": [
      "Accuracy: 0.5096649484536082\n",
      "              precision    recall  f1-score   support\n",
      "\n",
      "           0       0.51      0.54      0.52       770\n",
      "           1       0.51      0.48      0.49       782\n",
      "\n",
      "    accuracy                           0.51      1552\n",
      "   macro avg       0.51      0.51      0.51      1552\n",
      "weighted avg       0.51      0.51      0.51      1552\n",
      "\n"
     ]
    }
   ],
   "source": [
    "# Run and Evaluate Model\n",
    "model = RandomForestClassifier(n_estimators=100, random_state=42)\n",
    "model.fit(X_train, y_train)\n",
    "y_pred = model.predict(X_test)\n",
    "\n",
    "\n",
    "print(\"Accuracy:\", accuracy_score(y_test, y_pred))\n",
    "print(classification_report(y_test, y_pred))\n",
    "\n"
   ]
  },
  {
   "cell_type": "code",
   "execution_count": 320,
   "metadata": {},
   "outputs": [
    {
     "name": "stdout",
     "output_type": "stream",
     "text": [
      "Final Strategy Return: 3.51%\n",
      "Final Buy and Hold Return: 0.96%\n"
     ]
    }
   ],
   "source": [
    "\n",
    "\n",
    "results = X_test.copy()\n",
    "results['ActualClose'] = df.loc[X_test.index, 'Close']\n",
    "results['Prediction'] = y_pred\n",
    "\n",
    "results['Close_next'] = df.loc[X_test.index, 'Close_next']\n",
    "\n",
    "results['StrategyReturn'] = np.where(\n",
    "    results['Prediction'] == 1,\n",
    "    (results['Close_next'] - results['ActualClose']) / results['ActualClose'],\n",
    "    0\n",
    ")\n",
    "\n",
    "# Cumulative return of the strategy\n",
    "results['CumulativeStrategy'] = (1 + results['StrategyReturn']).cumprod()\n",
    "\n",
    "# Buy and Hold Return\n",
    "results['BuyHoldReturn'] = (results['ActualClose'] / results['ActualClose'].iloc[0])\n",
    "\n",
    "final_strategy_return = results['CumulativeStrategy'].iloc[-1] - 1\n",
    "final_buy_hold_return = results['BuyHoldReturn'].iloc[-1] - 1\n",
    "\n",
    "print(f\"Final Strategy Return: {final_strategy_return * 100:.2f}%\")\n",
    "print(f\"Final Buy and Hold Return: {final_buy_hold_return * 100:.2f}%\")\n"
   ]
  },
  {
   "cell_type": "markdown",
   "metadata": {},
   "source": [
    "# Parameter 2- EMA"
   ]
  },
  {
   "cell_type": "code",
   "execution_count": 321,
   "metadata": {},
   "outputs": [],
   "source": [
    "\n",
    "feature_cols = ['SMA_short', 'SMA_long', 'RollingStd', 'RSI', 'EMA_Short', 'EMA_Long']\n",
    "X = df[feature_cols]\n",
    "y = df['Target']\n",
    "\n",
    "X_train, X_test, y_train, y_test = train_test_split(\n",
    "    X, y,\n",
    "    test_size=0.2,\n",
    "    shuffle=False  \n",
    ")"
   ]
  },
  {
   "cell_type": "code",
   "execution_count": 322,
   "metadata": {},
   "outputs": [
    {
     "name": "stdout",
     "output_type": "stream",
     "text": [
      "Accuracy: 0.49677835051546393\n",
      "              precision    recall  f1-score   support\n",
      "\n",
      "           0       0.49      0.53      0.51       770\n",
      "           1       0.50      0.47      0.48       782\n",
      "\n",
      "    accuracy                           0.50      1552\n",
      "   macro avg       0.50      0.50      0.50      1552\n",
      "weighted avg       0.50      0.50      0.50      1552\n",
      "\n"
     ]
    }
   ],
   "source": [
    "model = RandomForestClassifier(n_estimators=100, random_state=42)\n",
    "model.fit(X_train, y_train)\n",
    "y_pred = model.predict(X_test)\n",
    "print(\"Accuracy:\", accuracy_score(y_test, y_pred))\n",
    "print(classification_report(y_test, y_pred))\n"
   ]
  },
  {
   "cell_type": "code",
   "execution_count": 323,
   "metadata": {},
   "outputs": [
    {
     "name": "stdout",
     "output_type": "stream",
     "text": [
      "Final Strategy Return: 1.98%\n",
      "Final Buy and Hold Return: 0.96%\n"
     ]
    }
   ],
   "source": [
    "\n",
    "\n",
    "results = X_test.copy()\n",
    "results['ActualClose'] = df.loc[X_test.index, 'Close']\n",
    "results['Prediction'] = y_pred\n",
    "\n",
    "results['Close_next'] = df.loc[X_test.index, 'Close_next']\n",
    "\n",
    "results['StrategyReturn'] = np.where(\n",
    "    results['Prediction'] == 1,\n",
    "    (results['Close_next'] - results['ActualClose']) / results['ActualClose'],\n",
    "    0\n",
    ")\n",
    "\n",
    "results['CumulativeStrategy'] = (1 + results['StrategyReturn']).cumprod()\n",
    "results['BuyHoldReturn'] = (results['ActualClose'] / results['ActualClose'].iloc[0])\n",
    "\n",
    "final_strategy_return = results['CumulativeStrategy'].iloc[-1] - 1\n",
    "final_buy_hold_return = results['BuyHoldReturn'].iloc[-1] - 1\n",
    "\n",
    "print(f\"Final Strategy Return: {final_strategy_return * 100:.2f}%\")\n",
    "print(f\"Final Buy and Hold Return: {final_buy_hold_return * 100:.2f}%\")"
   ]
  },
  {
   "cell_type": "markdown",
   "metadata": {},
   "source": [
    "# Parameter 3- Volume"
   ]
  },
  {
   "cell_type": "code",
   "execution_count": 324,
   "metadata": {},
   "outputs": [],
   "source": [
    "feature_cols = ['SMA_short', 'SMA_long', 'RollingStd', 'RSI', 'EMA_Short', 'EMA_Long', 'Volume_Ratio_5', 'Volume_Ratio_15']\n",
    "X = df[feature_cols]\n",
    "y = df['Target']\n",
    "\n",
    "\n",
    "X_train, X_test, y_train, y_test = train_test_split(\n",
    "    X, y,\n",
    "    test_size=0.2,\n",
    "    shuffle=False  \n",
    ")"
   ]
  },
  {
   "cell_type": "code",
   "execution_count": 325,
   "metadata": {},
   "outputs": [
    {
     "name": "stdout",
     "output_type": "stream",
     "text": [
      "Accuracy: 0.5180412371134021\n",
      "              precision    recall  f1-score   support\n",
      "\n",
      "           0       0.51      0.53      0.52       770\n",
      "           1       0.52      0.51      0.51       782\n",
      "\n",
      "    accuracy                           0.52      1552\n",
      "   macro avg       0.52      0.52      0.52      1552\n",
      "weighted avg       0.52      0.52      0.52      1552\n",
      "\n"
     ]
    }
   ],
   "source": [
    "model = RandomForestClassifier(n_estimators=100, random_state=42)\n",
    "model.fit(X_train, y_train)\n",
    "y_pred = model.predict(X_test)\n",
    "print(\"Accuracy:\", accuracy_score(y_test, y_pred))\n",
    "print(classification_report(y_test, y_pred))"
   ]
  },
  {
   "cell_type": "code",
   "execution_count": 326,
   "metadata": {},
   "outputs": [
    {
     "name": "stdout",
     "output_type": "stream",
     "text": [
      "Final Strategy Return: 3.30%\n",
      "Final Buy and Hold Return: 0.96%\n"
     ]
    }
   ],
   "source": [
    "\n",
    "results = X_test.copy()\n",
    "results['ActualClose'] = df.loc[X_test.index, 'Close']\n",
    "results['Prediction'] = y_pred\n",
    "\n",
    "results['Close_next'] = df.loc[X_test.index, 'Close_next']\n",
    "\n",
    "results['StrategyReturn'] = np.where(\n",
    "    results['Prediction'] == 1,\n",
    "    (results['Close_next'] - results['ActualClose']) / results['ActualClose'],\n",
    "    0\n",
    ")\n",
    "\n",
    "results['CumulativeStrategy'] = (1 + results['StrategyReturn']).cumprod()\n",
    "results['BuyHoldReturn'] = (results['ActualClose'] / results['ActualClose'].iloc[0])\n",
    "\n",
    "final_strategy_return = results['CumulativeStrategy'].iloc[-1] - 1\n",
    "final_buy_hold_return = results['BuyHoldReturn'].iloc[-1] - 1\n",
    "\n",
    "print(f\"Final Strategy Return: {final_strategy_return * 100:.2f}%\")\n",
    "print(f\"Final Buy and Hold Return: {final_buy_hold_return * 100:.2f}%\")"
   ]
  },
  {
   "cell_type": "markdown",
   "metadata": {},
   "source": [
    "# Model 2 - Logistic Regression"
   ]
  },
  {
   "cell_type": "code",
   "execution_count": 327,
   "metadata": {},
   "outputs": [],
   "source": [
    "from sklearn.model_selection import TimeSeriesSplit, GridSearchCV\n",
    "from sklearn.linear_model import LogisticRegression"
   ]
  },
  {
   "cell_type": "code",
   "execution_count": 328,
   "metadata": {},
   "outputs": [],
   "source": [
    "feature_cols = ['SMA_short', 'SMA_long', 'RollingStd', 'RSI']\n",
    "X = df[feature_cols]\n",
    "y = df['Target']\n",
    "\n",
    "train_size = int(len(X) * 0.8)\n",
    "X_train, X_test = X.iloc[:train_size], X.iloc[train_size:]\n",
    "y_train, y_test = y.iloc[:train_size], y.iloc[train_size:]"
   ]
  },
  {
   "cell_type": "code",
   "execution_count": 329,
   "metadata": {},
   "outputs": [],
   "source": [
    "logreg = LogisticRegression()\n",
    "\n",
    "param_grid = {\n",
    "    'C': [0.01, 0.1, 1, 10],\n",
    "    'penalty': ['l1', 'l2'],\n",
    "    'solver': ['liblinear']\n",
    "}\n",
    "\n",
    "tscv = TimeSeriesSplit(n_splits=5)\n",
    "\n",
    "grid_search = GridSearchCV(\n",
    "    estimator=logreg,\n",
    "    param_grid=param_grid,\n",
    "    scoring='accuracy',\n",
    "    cv=tscv,\n",
    "    n_jobs=-1\n",
    ")"
   ]
  },
  {
   "cell_type": "code",
   "execution_count": 330,
   "metadata": {},
   "outputs": [
    {
     "name": "stdout",
     "output_type": "stream",
     "text": [
      "Best Parameters: {'C': 0.1, 'penalty': 'l2', 'solver': 'liblinear'}\n",
      "Best CV Score: 0.5067698259187621\n",
      "Test Accuracy: 0.4954896907216495\n",
      "              precision    recall  f1-score   support\n",
      "\n",
      "           0       0.49      0.55      0.52       770\n",
      "           1       0.50      0.44      0.47       782\n",
      "\n",
      "    accuracy                           0.50      1552\n",
      "   macro avg       0.50      0.50      0.49      1552\n",
      "weighted avg       0.50      0.50      0.49      1552\n",
      "\n"
     ]
    }
   ],
   "source": [
    "# Find best parameters and run + evaluate model\n",
    "grid_search.fit(X_train, y_train)\n",
    "\n",
    "print(\"Best Parameters:\", grid_search.best_params_)\n",
    "print(\"Best CV Score:\", grid_search.best_score_)\n",
    "\n",
    "\n",
    "best_logreg = grid_search.best_estimator_\n",
    "y_pred = best_logreg.predict(X_test)\n",
    "\n",
    "print(\"Test Accuracy:\", accuracy_score(y_test, y_pred))\n",
    "print(classification_report(y_test, y_pred))"
   ]
  },
  {
   "cell_type": "code",
   "execution_count": 331,
   "metadata": {},
   "outputs": [
    {
     "name": "stdout",
     "output_type": "stream",
     "text": [
      "Final Strategy Return: 1.18%\n",
      "Final Buy and Hold Return: 0.96%\n"
     ]
    }
   ],
   "source": [
    "results = X_test.copy()\n",
    "results['ActualClose'] = df.loc[X_test.index, 'Close']\n",
    "results['Prediction'] = y_pred\n",
    "\n",
    "results['Close_next'] = df.loc[X_test.index, 'Close_next']\n",
    "\n",
    "results['StrategyReturn'] = np.where(\n",
    "    results['Prediction'] == 1,\n",
    "    (results['Close_next'] - results['ActualClose']) / results['ActualClose'],\n",
    "    0\n",
    ")\n",
    "\n",
    "results['CumulativeStrategy'] = (1 + results['StrategyReturn']).cumprod()\n",
    "results['BuyHoldReturn'] = (results['ActualClose'] / results['ActualClose'].iloc[0])\n",
    "\n",
    "final_strategy_return = results['CumulativeStrategy'].iloc[-1] - 1\n",
    "final_buy_hold_return = results['BuyHoldReturn'].iloc[-1] - 1\n",
    "\n",
    "print(f\"Final Strategy Return: {final_strategy_return * 100:.2f}%\")\n",
    "print(f\"Final Buy and Hold Return: {final_buy_hold_return * 100:.2f}%\")"
   ]
  },
  {
   "cell_type": "markdown",
   "metadata": {},
   "source": [
    "# Parameter 2  EMA"
   ]
  },
  {
   "cell_type": "code",
   "execution_count": 332,
   "metadata": {},
   "outputs": [],
   "source": [
    "feature_cols = ['SMA_short', 'SMA_long', 'RollingStd', 'RSI', 'EMA_Short', 'EMA_Long']\n",
    "X = df[feature_cols]\n",
    "y = df['Target']"
   ]
  },
  {
   "cell_type": "code",
   "execution_count": 333,
   "metadata": {},
   "outputs": [
    {
     "name": "stdout",
     "output_type": "stream",
     "text": [
      "Best Parameters: {'C': 0.01, 'penalty': 'l1', 'solver': 'liblinear'}\n",
      "Best CV Score: 0.5061895551257253\n",
      "Test Accuracy: 0.48195876288659795\n",
      "              precision    recall  f1-score   support\n",
      "\n",
      "           0       0.48      0.55      0.51       770\n",
      "           1       0.48      0.41      0.45       782\n",
      "\n",
      "    accuracy                           0.48      1552\n",
      "   macro avg       0.48      0.48      0.48      1552\n",
      "weighted avg       0.48      0.48      0.48      1552\n",
      "\n"
     ]
    }
   ],
   "source": [
    "train_size = int(len(X) * 0.8)\n",
    "X_train, X_test = X.iloc[:train_size], X.iloc[train_size:]\n",
    "y_train, y_test = y.iloc[:train_size], y.iloc[train_size:]\n",
    "\n",
    "logreg = LogisticRegression()\n",
    "\n",
    "param_grid = {\n",
    "    'C': [0.01, 0.1, 1, 10],\n",
    "    'penalty': ['l1', 'l2'],\n",
    "    'solver': ['liblinear']\n",
    "}\n",
    "\n",
    "tscv = TimeSeriesSplit(n_splits=5)\n",
    "\n",
    "grid_search = GridSearchCV(\n",
    "    estimator=logreg,\n",
    "    param_grid=param_grid,\n",
    "    scoring='accuracy',\n",
    "    cv=tscv,\n",
    "    n_jobs=-1\n",
    ")\n",
    "grid_search.fit(X_train, y_train)\n",
    "\n",
    "print(\"Best Parameters:\", grid_search.best_params_)\n",
    "print(\"Best CV Score:\", grid_search.best_score_)\n",
    "\n",
    "best_logreg = grid_search.best_estimator_\n",
    "y_pred = best_logreg.predict(X_test)\n",
    "\n",
    "print(\"Test Accuracy:\", accuracy_score(y_test, y_pred))\n",
    "print(classification_report(y_test, y_pred))"
   ]
  },
  {
   "cell_type": "code",
   "execution_count": 334,
   "metadata": {},
   "outputs": [
    {
     "name": "stdout",
     "output_type": "stream",
     "text": [
      "Final Strategy Return: 0.59%\n",
      "Final Buy and Hold Return: 0.96%\n"
     ]
    }
   ],
   "source": [
    "results = X_test.copy()\n",
    "results['ActualClose'] = df.loc[X_test.index, 'Close']\n",
    "results['Prediction'] = y_pred\n",
    "\n",
    "results['Close_next'] = df.loc[X_test.index, 'Close_next']\n",
    "\n",
    "results['StrategyReturn'] = np.where(\n",
    "    results['Prediction'] == 1,\n",
    "    (results['Close_next'] - results['ActualClose']) / results['ActualClose'],\n",
    "    0\n",
    ")\n",
    "\n",
    "results['CumulativeStrategy'] = (1 + results['StrategyReturn']).cumprod()\n",
    "results['BuyHoldReturn'] = (results['ActualClose'] / results['ActualClose'].iloc[0])\n",
    "\n",
    "final_strategy_return = results['CumulativeStrategy'].iloc[-1] - 1\n",
    "final_buy_hold_return = results['BuyHoldReturn'].iloc[-1] - 1\n",
    "\n",
    "print(f\"Final Strategy Return: {final_strategy_return * 100:.2f}%\")\n",
    "print(f\"Final Buy and Hold Return: {final_buy_hold_return * 100:.2f}%\")"
   ]
  },
  {
   "cell_type": "markdown",
   "metadata": {},
   "source": [
    "# Parameter  3 Volume"
   ]
  },
  {
   "cell_type": "code",
   "execution_count": 335,
   "metadata": {},
   "outputs": [],
   "source": [
    "feature_cols = ['SMA_short', 'SMA_long', 'RollingStd', 'RSI', 'EMA_Short', 'EMA_Long', 'Volume_Ratio_5', 'Volume_Ratio_15']\n",
    "X = df[feature_cols]\n",
    "y = df['Target']"
   ]
  },
  {
   "cell_type": "code",
   "execution_count": 336,
   "metadata": {},
   "outputs": [
    {
     "name": "stdout",
     "output_type": "stream",
     "text": [
      "Best Parameters: {'C': 10, 'penalty': 'l2', 'solver': 'liblinear'}\n",
      "Best CV Score: 0.5073500967117989\n",
      "Test Accuracy: 0.5070876288659794\n",
      "              precision    recall  f1-score   support\n",
      "\n",
      "           0       0.50      0.38      0.43       770\n",
      "           1       0.51      0.63      0.56       782\n",
      "\n",
      "    accuracy                           0.51      1552\n",
      "   macro avg       0.51      0.51      0.50      1552\n",
      "weighted avg       0.51      0.51      0.50      1552\n",
      "\n"
     ]
    }
   ],
   "source": [
    "train_size = int(len(X) * 0.8)\n",
    "X_train, X_test = X.iloc[:train_size], X.iloc[train_size:]\n",
    "y_train, y_test = y.iloc[:train_size], y.iloc[train_size:]\n",
    "\n",
    "logreg = LogisticRegression()\n",
    "\n",
    "param_grid = {\n",
    "    'C': [0.01, 0.1, 1, 10],\n",
    "    'penalty': ['l1', 'l2'],\n",
    "    'solver': ['liblinear']\n",
    "}\n",
    "\n",
    "tscv = TimeSeriesSplit(n_splits=5)\n",
    "\n",
    "grid_search = GridSearchCV(\n",
    "    estimator=logreg,\n",
    "    param_grid=param_grid,\n",
    "    scoring='accuracy',\n",
    "    cv=tscv,\n",
    "    n_jobs=-1\n",
    ")\n",
    "grid_search.fit(X_train, y_train)\n",
    "\n",
    "print(\"Best Parameters:\", grid_search.best_params_)\n",
    "print(\"Best CV Score:\", grid_search.best_score_)\n",
    "\n",
    "best_logreg = grid_search.best_estimator_\n",
    "y_pred = best_logreg.predict(X_test)\n",
    "\n",
    "print(\"Test Accuracy:\", accuracy_score(y_test, y_pred))\n",
    "print(classification_report(y_test, y_pred))"
   ]
  },
  {
   "cell_type": "code",
   "execution_count": 337,
   "metadata": {},
   "outputs": [
    {
     "name": "stdout",
     "output_type": "stream",
     "text": [
      "Final Strategy Return: 0.98%\n",
      "Final Buy and Hold Return: 0.96%\n"
     ]
    }
   ],
   "source": [
    "results = X_test.copy()\n",
    "results['ActualClose'] = df.loc[X_test.index, 'Close']\n",
    "results['Prediction'] = y_pred\n",
    "\n",
    "results['Close_next'] = df.loc[X_test.index, 'Close_next']\n",
    "\n",
    "results['StrategyReturn'] = np.where(\n",
    "    results['Prediction'] == 1,\n",
    "    (results['Close_next'] - results['ActualClose']) / results['ActualClose'],\n",
    "    0\n",
    ")\n",
    "\n",
    "results['CumulativeStrategy'] = (1 + results['StrategyReturn']).cumprod()\n",
    "results['BuyHoldReturn'] = (results['ActualClose'] / results['ActualClose'].iloc[0])\n",
    "\n",
    "final_strategy_return = results['CumulativeStrategy'].iloc[-1] - 1\n",
    "final_buy_hold_return = results['BuyHoldReturn'].iloc[-1] - 1\n",
    "\n",
    "print(f\"Final Strategy Return: {final_strategy_return * 100:.2f}%\")\n",
    "print(f\"Final Buy and Hold Return: {final_buy_hold_return * 100:.2f}%\")"
   ]
  }
 ],
 "metadata": {
  "kernelspec": {
   "display_name": "Python 3",
   "language": "python",
   "name": "python3"
  },
  "language_info": {
   "codemirror_mode": {
    "name": "ipython",
    "version": 3
   },
   "file_extension": ".py",
   "mimetype": "text/x-python",
   "name": "python",
   "nbconvert_exporter": "python",
   "pygments_lexer": "ipython3",
   "version": "3.12.5"
  }
 },
 "nbformat": 4,
 "nbformat_minor": 2
}
